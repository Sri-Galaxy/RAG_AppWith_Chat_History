{
 "cells": [
  {
   "cell_type": "markdown",
   "id": "d16f3cdb",
   "metadata": {},
   "source": [
    "# Simple RAG app with conversation History"
   ]
  },
  {
   "cell_type": "code",
   "execution_count": null,
   "id": "6c8c6b11",
   "metadata": {},
   "outputs": [],
   "source": [
    "\n",
    "import os\n",
    "from dotenv import load_dotenv\n",
    "\n",
    "\n",
    "load_dotenv()\n",
    "\n",
    "gemini_api_key = os.getenv(\"GOOGLE_API_KEY\")"
   ]
  },
  {
   "cell_type": "code",
   "execution_count": 27,
   "id": "3ea57ea0",
   "metadata": {},
   "outputs": [],
   "source": [
    "\n",
    "from langchain_google_genai import ChatGoogleGenerativeAI\n",
    "\n",
    "\n",
    "llm = ChatGoogleGenerativeAI(model=\"gemini-2.0-flash\", google_api_key=gemini_api_key)\n"
   ]
  },
  {
   "cell_type": "code",
   "execution_count": 28,
   "metadata": {},
   "outputs": [
    {
     "data": {
      "text/plain": [
       "AIMessage(content='The capital of Andhra Pradesh is **Visakhapatnam**.', additional_kwargs={}, response_metadata={'prompt_feedback': {'block_reason': 0, 'safety_ratings': []}, 'finish_reason': 'STOP', 'model_name': 'gemini-2.0-flash', 'safety_ratings': []}, id='run--ad265992-22ef-48ff-95ed-3a140c608b03-0', usage_metadata={'input_tokens': 8, 'output_tokens': 13, 'total_tokens': 21, 'input_token_details': {'cache_read': 0}})"
      ]
     },
     "execution_count": 28,
     "metadata": {},
     "output_type": "execute_result"
    }
   ],
   "source": [
    "\n",
    "from langchain_core.messages import HumanMessage\n",
    "\n",
    "\n",
    "llm.invoke([HumanMessage(content=\"What is the capital of Andhra Pradesh?\")])"
   ]
  },
  {
   "cell_type": "code",
   "execution_count": 32,
   "id": "774ab327",
   "metadata": {},
   "outputs": [],
   "source": [
    "\n",
    "from langchain_community.chat_message_histories import ChatMessageHistory\n",
    "from langchain_core.chat_history import BaseChatMessageHistory\n",
    "from langchain_core.runnables.history import RunnableWithMessageHistory\n",
    "\n",
    "store = {}\n",
    "\n",
    "def get_session_history(session_id: str) -> BaseChatMessageHistory:\n",
    "    if session_id not in store:\n",
    "        store[session_id] = ChatMessageHistory()\n",
    "    return store[session_id]\n",
    "\n",
    "with_history = RunnableWithMessageHistory(llm, get_session_history)\n"
   ]
  },
  {
   "cell_type": "code",
   "execution_count": 33,
   "id": "ed12dfcd",
   "metadata": {},
   "outputs": [],
   "source": [
    "\n",
    "config = { \"configurable\": { \"session_id\": \"demo1\" } }\n"
   ]
  },
  {
   "cell_type": "code",
   "execution_count": null,
   "id": "c5b50a1e",
   "metadata": {},
   "outputs": [
    {
     "data": {
      "text/plain": [
       "\"Hi Sri! It's exciting to hear you're in your final year at CVR College of Engineering. What field of engineering are you studying? Are you looking for advice on job searching, further education, or anything else related to your final year and future career? Let me know how I can help!\""
      ]
     },
     "execution_count": 36,
     "metadata": {},
     "output_type": "execute_result"
    }
   ],
   "source": [
    "\n",
    "# Invoke with history...Providing Information\n",
    "response = with_history.invoke(\n",
    "    [HumanMessage(content=\"Hi! I am Sri, final year student at CVR COllege of Engineering.\")],\n",
    "    config=config\n",
    ")\n",
    "\n",
    "response.content"
   ]
  },
  {
   "cell_type": "code",
   "execution_count": null,
   "id": "3bb80d5e",
   "metadata": {},
   "outputs": [
    {
     "data": {
      "text/plain": [
       "'As an AI, I don\\'t know your name. You told me \"Hi! I am Sri, final year student at CVR COllege of Engineering.\" So, I believe your name is Sri. Is that correct?'"
      ]
     },
     "execution_count": 37,
     "metadata": {},
     "output_type": "execute_result"
    }
   ],
   "source": [
    "\n",
    "# Asking a Question\n",
    "with_history.invoke(\n",
    "    [HumanMessage(content=\"What is my name?\")],\n",
    "    config=config\n",
    ").content\n"
   ]
  },
  {
   "cell_type": "code",
   "execution_count": 41,
   "id": "36d8cebf",
   "metadata": {},
   "outputs": [
    {
     "data": {
      "text/plain": [
       "\"I am a large language model, and I don't have access to personal information. Therefore, I don't know your name. You haven't told me!\""
      ]
     },
     "execution_count": 41,
     "metadata": {},
     "output_type": "execute_result"
    }
   ],
   "source": [
    "\n",
    "# Asking a Question with a different session\n",
    "config1 = { \"configurable\": { \"session_id\": \"demo2\" } }\n",
    "\n",
    "with_history.invoke(\n",
    "    [HumanMessage(content=\"what is my name?\")],\n",
    "    config=config1\n",
    ").content\n"
   ]
  },
  {
   "cell_type": "code",
   "execution_count": 42,
   "id": "aa6dd9fa",
   "metadata": {},
   "outputs": [
    {
     "data": {
      "text/plain": [
       "\"Okay, Riyaz. It's nice to meet you! How can I help you today?\""
      ]
     },
     "execution_count": 42,
     "metadata": {},
     "output_type": "execute_result"
    }
   ],
   "source": [
    "\n",
    "# Providing Information to a different session\n",
    "with_history.invoke(\n",
    "    [HumanMessage(content=\"My name is Riyaz.\")],\n",
    "    config=config1\n",
    ").content"
   ]
  },
  {
   "cell_type": "code",
   "execution_count": 43,
   "id": "38aae601",
   "metadata": {},
   "outputs": [
    {
     "data": {
      "text/plain": [
       "'Your name is Riyaz.'"
      ]
     },
     "execution_count": 43,
     "metadata": {},
     "output_type": "execute_result"
    }
   ],
   "source": [
    "\n",
    "with_history.invoke(\n",
    "    [HumanMessage(content=\"what is my name?\")],\n",
    "    config=config1\n",
    ").content\n"
   ]
  },
  {
   "cell_type": "code",
   "execution_count": 56,
   "id": "0245b2cd",
   "metadata": {},
   "outputs": [],
   "source": [
    "\n",
    "# Adding ChatPromptTemplate and bit complexity...\n",
    "from langchain_core.prompts import ChatPromptTemplate, MessagesPlaceholder\n",
    "\n",
    "prompt = ChatPromptTemplate.from_messages(\n",
    "    [    (\"system\", \"You are a friendly assistant. Answer all questions in {language}.\"),\n",
    "        MessagesPlaceholder(variable_name=\"messages\")\n",
    "    ]\n",
    ")\n",
    "\n",
    "chain = prompt | llm\n",
    "\n",
    "with_history = RunnableWithMessageHistory( chain, get_session_history, input_messages_key=\"messages\" )\n"
   ]
  },
  {
   "cell_type": "code",
   "execution_count": 57,
   "id": "c15dc83d",
   "metadata": {},
   "outputs": [
    {
     "data": {
      "text/plain": [
       "'హాయ్ అవినాష్! మిమ్మల్ని కలవడం నాకు చాలా సంతోషంగా ఉంది. నేను మీకు ఎలా సహాయపడగలను?'"
      ]
     },
     "execution_count": 57,
     "metadata": {},
     "output_type": "execute_result"
    }
   ],
   "source": [
    "\n",
    "config2 = { \"configurable\": { \"session_id\": \"demo2\" } }\n",
    "\n",
    "with_history.invoke(\n",
    "    {\"messages\": [HumanMessage(content=\"Hi! I am Avinash.\")], \"language\": \"Telugu\"},\n",
    "    config=config2\n",
    ").content\n"
   ]
  },
  {
   "cell_type": "code",
   "execution_count": 58,
   "id": "451e6584",
   "metadata": {},
   "outputs": [
    {
     "data": {
      "text/plain": [
       "'आपका नाम अविनाश है।'"
      ]
     },
     "execution_count": 58,
     "metadata": {},
     "output_type": "execute_result"
    }
   ],
   "source": [
    "\n",
    "with_history.invoke(\n",
    "    {\"messages\": [HumanMessage(content=\"what is my name?\")], \"language\": \"Hindi\"},\n",
    "    config=config2\n",
    ").content\n"
   ]
  },
  {
   "cell_type": "code",
   "execution_count": 59,
   "id": "a2e0ef9e",
   "metadata": {},
   "outputs": [
    {
     "data": {
      "text/plain": [
       "{'demo1': InMemoryChatMessageHistory(messages=[HumanMessage(content='Hi! I am Sri, final year student at CVR COllege of Engineering.', additional_kwargs={}, response_metadata={}), AIMessage(content=\"Hi Sri! It's great to connect with you. So you're in your final year at CVR College of Engineering. That's a big year!\\n\\nWhat are you studying? And what are you thinking about doing after graduation? I'm happy to chat about anything you'd like to talk about, whether it's career advice, project ideas, interview tips, or just general conversation about being a final year student. Let me know what's on your mind!\", additional_kwargs={}, response_metadata={'prompt_feedback': {'block_reason': 0, 'safety_ratings': []}, 'finish_reason': 'STOP', 'model_name': 'gemini-2.0-flash', 'safety_ratings': []}, id='run--7dd7f0cc-2449-427b-8cdf-b7994c9002c0-0', usage_metadata={'input_tokens': 18, 'output_tokens': 101, 'total_tokens': 119, 'input_token_details': {'cache_read': 0}}), HumanMessage(content='Hi! I am Sri, final year student at CVR COllege of Engineering.', additional_kwargs={}, response_metadata={}), AIMessage(content=\"Hi Sri! It's exciting to hear you're in your final year at CVR College of Engineering. What field of engineering are you studying? Are you looking for advice on job searching, further education, or anything else related to your final year and future career? Let me know how I can help!\", additional_kwargs={}, response_metadata={'prompt_feedback': {'block_reason': 0, 'safety_ratings': []}, 'finish_reason': 'STOP', 'model_name': 'gemini-2.0-flash', 'safety_ratings': []}, id='run--062d0139-d9d8-4929-9384-8eec57da55f9-0', usage_metadata={'input_tokens': 136, 'output_tokens': 64, 'total_tokens': 200, 'input_token_details': {'cache_read': 0}}), HumanMessage(content='What is my name?', additional_kwargs={}, response_metadata={}), AIMessage(content='As an AI, I don\\'t know your name. You told me \"Hi! I am Sri, final year student at CVR COllege of Engineering.\" So, I believe your name is Sri. Is that correct?', additional_kwargs={}, response_metadata={'prompt_feedback': {'block_reason': 0, 'safety_ratings': []}, 'finish_reason': 'STOP', 'model_name': 'gemini-2.0-flash', 'safety_ratings': []}, id='run--53837bd0-e861-4a4d-b64e-c213606b53f3-0', usage_metadata={'input_tokens': 204, 'output_tokens': 48, 'total_tokens': 252, 'input_token_details': {'cache_read': 0}}), HumanMessage(content='What is my name?', additional_kwargs={}, response_metadata={}), AIMessage(content='You told me your name is Sri when you said \"Hi! I am Sri, final year student at CVR COllege of Engineering.\" So, I believe your name is Sri.', additional_kwargs={}, response_metadata={'prompt_feedback': {'block_reason': 0, 'safety_ratings': []}, 'finish_reason': 'STOP', 'model_name': 'gemini-2.0-flash', 'safety_ratings': []}, id='run--25306ecb-0dee-495a-a56c-ed7c664f0027-0', usage_metadata={'input_tokens': 256, 'output_tokens': 39, 'total_tokens': 295, 'input_token_details': {'cache_read': 0}})]),\n",
       " 'demo2': InMemoryChatMessageHistory(messages=[HumanMessage(content='What is my name?', additional_kwargs={}, response_metadata={}), AIMessage(content='I am an AI and do not know your name.', additional_kwargs={}, response_metadata={'prompt_feedback': {'block_reason': 0, 'safety_ratings': []}, 'finish_reason': 'STOP', 'model_name': 'gemini-2.0-flash', 'safety_ratings': []}, id='run--2ca7980d-7906-4721-a3c6-92948abefeee-0', usage_metadata={'input_tokens': 5, 'output_tokens': 12, 'total_tokens': 17, 'input_token_details': {'cache_read': 0}}), HumanMessage(content='what is my name?', additional_kwargs={}, response_metadata={}), AIMessage(content=\"I am a large language model, and I don't have access to personal information. Therefore, I don't know your name. You haven't told me!\", additional_kwargs={}, response_metadata={'prompt_feedback': {'block_reason': 0, 'safety_ratings': []}, 'finish_reason': 'STOP', 'model_name': 'gemini-2.0-flash', 'safety_ratings': []}, id='run--06ac2501-f9fd-4204-8f10-bd85f8ce9980-0', usage_metadata={'input_tokens': 21, 'output_tokens': 36, 'total_tokens': 57, 'input_token_details': {'cache_read': 0}}), HumanMessage(content='My name is Riyaz.', additional_kwargs={}, response_metadata={}), AIMessage(content=\"Okay, Riyaz. It's nice to meet you! How can I help you today?\", additional_kwargs={}, response_metadata={'prompt_feedback': {'block_reason': 0, 'safety_ratings': []}, 'finish_reason': 'STOP', 'model_name': 'gemini-2.0-flash', 'safety_ratings': []}, id='run--95f1c247-4c54-419d-9623-57dda5593639-0', usage_metadata={'input_tokens': 62, 'output_tokens': 21, 'total_tokens': 83, 'input_token_details': {'cache_read': 0}}), HumanMessage(content='what is my name?', additional_kwargs={}, response_metadata={}), AIMessage(content='Your name is Riyaz.', additional_kwargs={}, response_metadata={'prompt_feedback': {'block_reason': 0, 'safety_ratings': []}, 'finish_reason': 'STOP', 'model_name': 'gemini-2.0-flash', 'safety_ratings': []}, id='run--fc9a34b1-8da0-4f0a-87f2-4fde4faf81ae-0', usage_metadata={'input_tokens': 87, 'output_tokens': 7, 'total_tokens': 94, 'input_token_details': {'cache_read': 0}}), HumanMessage(content='Hi! I am Avinash.', additional_kwargs={}, response_metadata={}), AIMessage(content='హాయ్ అవినాష్! మిమ్మల్ని కలవడం నాకు చాలా సంతోషంగా ఉంది. నేను మీకు ఎలా సహాయపడగలను?', additional_kwargs={}, response_metadata={'prompt_feedback': {'block_reason': 0, 'safety_ratings': []}, 'finish_reason': 'STOP', 'model_name': 'gemini-2.0-flash', 'safety_ratings': []}, id='run--95397c62-ae26-41db-81dd-5efedcef8f16-0', usage_metadata={'input_tokens': 113, 'output_tokens': 50, 'total_tokens': 163, 'input_token_details': {'cache_read': 0}}), HumanMessage(content='what is my name?', additional_kwargs={}, response_metadata={}), AIMessage(content='आपका नाम अविनाश है।', additional_kwargs={}, response_metadata={'prompt_feedback': {'block_reason': 0, 'safety_ratings': []}, 'finish_reason': 'STOP', 'model_name': 'gemini-2.0-flash', 'safety_ratings': []}, id='run--dd999b75-cb7d-464f-991c-d6b2fac3d7f3-0', usage_metadata={'input_tokens': 167, 'output_tokens': 11, 'total_tokens': 178, 'input_token_details': {'cache_read': 0}})])}"
      ]
     },
     "execution_count": 59,
     "metadata": {},
     "output_type": "execute_result"
    }
   ],
   "source": [
    "store"
   ]
  }
 ],
 "metadata": {
  "kernelspec": {
   "display_name": ".venv",
   "language": "python",
   "name": "python3"
  },
  "language_info": {
   "codemirror_mode": {
    "name": "ipython",
    "version": 3
   },
   "file_extension": ".py",
   "mimetype": "text/x-python",
   "name": "python",
   "nbconvert_exporter": "python",
   "pygments_lexer": "ipython3",
   "version": "3.12.7"
  }
 },
 "nbformat": 4,
 "nbformat_minor": 5
}
