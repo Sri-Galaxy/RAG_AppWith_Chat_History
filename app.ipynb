{
 "cells": [
  {
   "cell_type": "markdown",
   "id": "d16f3cdb",
   "metadata": {},
   "source": [
    "# Simple RAG app with conversation History"
   ]
  },
  {
   "cell_type": "code",
   "execution_count": null,
   "id": "6c8c6b11",
   "metadata": {},
   "outputs": [],
   "source": [
    "\n",
    "import os\n",
    "from dotenv import load_dotenv\n",
    "\n",
    "\n",
    "load_dotenv()\n",
    "\n",
    "gemini_api_key = os.getenv(\"GOOGLE_API_KEY\")"
   ]
  },
  {
   "cell_type": "code",
   "execution_count": 27,
   "id": "3ea57ea0",
   "metadata": {},
   "outputs": [],
   "source": [
    "\n",
    "from langchain_google_genai import ChatGoogleGenerativeAI\n",
    "\n",
    "\n",
    "llm = ChatGoogleGenerativeAI(model=\"gemini-2.0-flash\", google_api_key=gemini_api_key)\n"
   ]
  },
  {
   "cell_type": "code",
   "execution_count": 28,
   "metadata": {},
   "outputs": [
    {
     "data": {
      "text/plain": [
       "AIMessage(content='The capital of Andhra Pradesh is **Visakhapatnam**.', additional_kwargs={}, response_metadata={'prompt_feedback': {'block_reason': 0, 'safety_ratings': []}, 'finish_reason': 'STOP', 'model_name': 'gemini-2.0-flash', 'safety_ratings': []}, id='run--ad265992-22ef-48ff-95ed-3a140c608b03-0', usage_metadata={'input_tokens': 8, 'output_tokens': 13, 'total_tokens': 21, 'input_token_details': {'cache_read': 0}})"
      ]
     },
     "execution_count": 28,
     "metadata": {},
     "output_type": "execute_result"
    }
   ],
   "source": [
    "\n",
    "from langchain_core.messages import HumanMessage\n",
    "\n",
    "\n",
    "llm.invoke([HumanMessage(content=\"What is the capital of Andhra Pradesh?\")])"
   ]
  },
  {
   "cell_type": "code",
   "execution_count": 32,
   "id": "774ab327",
   "metadata": {},
   "outputs": [],
   "source": [
    "\n",
    "from langchain_community.chat_message_histories import ChatMessageHistory\n",
    "from langchain_core.chat_history import BaseChatMessageHistory\n",
    "from langchain_core.runnables.history import RunnableWithMessageHistory\n",
    "\n",
    "store = {}\n",
    "\n",
    "def get_session_history(session_id: str) -> BaseChatMessageHistory:\n",
    "    if session_id not in store:\n",
    "        store[session_id] = ChatMessageHistory()\n",
    "    return store[session_id]\n",
    "\n",
    "with_history = RunnableWithMessageHistory(llm, get_session_history)\n"
   ]
  },
  {
   "cell_type": "code",
   "execution_count": 33,
   "id": "ed12dfcd",
   "metadata": {},
   "outputs": [],
   "source": [
    "\n",
    "config = { \"configurable\": { \"session_id\": \"demo1\" } }\n"
   ]
  },
  {
   "cell_type": "code",
   "execution_count": null,
   "id": "c5b50a1e",
   "metadata": {},
   "outputs": [
    {
     "data": {
      "text/plain": [
       "\"Hi Sri! It's exciting to hear you're in your final year at CVR College of Engineering. What field of engineering are you studying? Are you looking for advice on job searching, further education, or anything else related to your final year and future career? Let me know how I can help!\""
      ]
     },
     "execution_count": 36,
     "metadata": {},
     "output_type": "execute_result"
    }
   ],
   "source": [
    "\n",
    "# Invoke with history...Providing Information\n",
    "response = with_history.invoke(\n",
    "    [HumanMessage(content=\"Hi! I am Sri, final year student at CVR COllege of Engineering.\")],\n",
    "    config=config\n",
    ")\n",
    "\n",
    "response.content"
   ]
  },
  {
   "cell_type": "code",
   "execution_count": null,
   "id": "3bb80d5e",
   "metadata": {},
   "outputs": [
    {
     "data": {
      "text/plain": [
       "'As an AI, I don\\'t know your name. You told me \"Hi! I am Sri, final year student at CVR COllege of Engineering.\" So, I believe your name is Sri. Is that correct?'"
      ]
     },
     "execution_count": 37,
     "metadata": {},
     "output_type": "execute_result"
    }
   ],
   "source": [
    "\n",
    "# Asking a Question\n",
    "with_history.invoke(\n",
    "    [HumanMessage(content=\"What is my name?\")],\n",
    "    config=config\n",
    ").content\n"
   ]
  },
  {
   "cell_type": "code",
   "execution_count": 41,
   "id": "36d8cebf",
   "metadata": {},
   "outputs": [
    {
     "data": {
      "text/plain": [
       "\"I am a large language model, and I don't have access to personal information. Therefore, I don't know your name. You haven't told me!\""
      ]
     },
     "execution_count": 41,
     "metadata": {},
     "output_type": "execute_result"
    }
   ],
   "source": [
    "\n",
    "# Asking a Question with a different session\n",
    "config1 = { \"configurable\": { \"session_id\": \"demo2\" } }\n",
    "\n",
    "with_history.invoke(\n",
    "    [HumanMessage(content=\"what is my name?\")],\n",
    "    config=config1\n",
    ").content\n"
   ]
  },
  {
   "cell_type": "code",
   "execution_count": 42,
   "id": "aa6dd9fa",
   "metadata": {},
   "outputs": [
    {
     "data": {
      "text/plain": [
       "\"Okay, Riyaz. It's nice to meet you! How can I help you today?\""
      ]
     },
     "execution_count": 42,
     "metadata": {},
     "output_type": "execute_result"
    }
   ],
   "source": [
    "\n",
    "# Providing Information to a different session\n",
    "with_history.invoke(\n",
    "    [HumanMessage(content=\"My name is Riyaz.\")],\n",
    "    config=config1\n",
    ").content"
   ]
  },
  {
   "cell_type": "code",
   "execution_count": 43,
   "id": "38aae601",
   "metadata": {},
   "outputs": [
    {
     "data": {
      "text/plain": [
       "'Your name is Riyaz.'"
      ]
     },
     "execution_count": 43,
     "metadata": {},
     "output_type": "execute_result"
    }
   ],
   "source": [
    "\n",
    "with_history.invoke(\n",
    "    [HumanMessage(content=\"what is my name?\")],\n",
    "    config=config1\n",
    ").content\n"
   ]
  },
  {
   "cell_type": "code",
   "execution_count": null,
   "id": "0245b2cd",
   "metadata": {},
   "outputs": [],
   "source": [
    "\n",
    "# Adding ChatPromptTemplate and bit complexity...\n",
    "from langchain_core.prompts import ChatPromptTemplate, MessagesPlaceholder\n",
    "\n",
    "prompt = ChatPromptTemplate.from_messages(\n",
    "    [    (\"system\", \"You are a friendly assistant. Answer all questions in {language}.\"),\n",
    "        MessagesPlaceholder(variable_name=\"messages\")\n",
    "    ]\n",
    ")\n",
    "\n",
    "chain = prompt | llm\n",
    "\n",
    "with_history = RunnableWithMessageHistory( chain, get_session_history, input_message_key=\"messages\" )"
   ]
  }
 ],
 "metadata": {
  "kernelspec": {
   "display_name": ".venv",
   "language": "python",
   "name": "python3"
  },
  "language_info": {
   "codemirror_mode": {
    "name": "ipython",
    "version": 3
   },
   "file_extension": ".py",
   "mimetype": "text/x-python",
   "name": "python",
   "nbconvert_exporter": "python",
   "pygments_lexer": "ipython3",
   "version": "3.12.7"
  }
 },
 "nbformat": 4,
 "nbformat_minor": 5
}
