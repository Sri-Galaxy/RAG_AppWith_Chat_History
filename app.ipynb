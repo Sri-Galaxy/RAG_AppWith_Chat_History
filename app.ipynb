{
 "cells": [
  {
   "cell_type": "markdown",
   "id": "d16f3cdb",
   "metadata": {},
   "source": [
    "# **Simple RAG app with conversation History**"
   ]
  },
  {
   "cell_type": "markdown",
   "id": "5b94fe3b",
   "metadata": {},
   "source": [
    "## *Initial code*"
   ]
  },
  {
   "cell_type": "code",
   "execution_count": 2,
   "id": "6c8c6b11",
   "metadata": {},
   "outputs": [],
   "source": [
    "\n",
    "import os\n",
    "from dotenv import load_dotenv\n",
    "\n",
    "\n",
    "load_dotenv()\n",
    "\n",
    "gemini_api_key = os.getenv(\"GOOGLE_API_KEY\")\n",
    "os.environ[\"GOOGLE_API_KEY\"] = os.getenv(\"GOOGLE_API_KEY\")"
   ]
  },
  {
   "cell_type": "code",
   "execution_count": 3,
   "id": "3ea57ea0",
   "metadata": {},
   "outputs": [],
   "source": [
    "\n",
    "from langchain_google_genai import ChatGoogleGenerativeAI\n",
    "\n",
    "\n",
    "llm = ChatGoogleGenerativeAI(model=\"gemini-2.5-flash\", google_api_key=gemini_api_key)\n"
   ]
  },
  {
   "cell_type": "code",
   "execution_count": 4,
   "metadata": {},
   "outputs": [
    {
     "data": {
      "text/plain": [
       "AIMessage(content=\"The designated capital of Andhra Pradesh is **Amaravati**.\\n\\nHowever, it's important to note the history and recent developments:\\n\\n*   **Hyderabad** served as the joint capital for both Andhra Pradesh and Telangana until June 2, 2024, as per the Andhra Pradesh Reorganisation Act, 2014.\\n*   Andhra Pradesh had plans to develop Amaravati as its new capital city.\\n*   There have been proposals and legal discussions about having three capitals (Visakhapatnam for executive, Amaravati for legislative, and Kurnool for judicial), but as of now, **Amaravati** remains the official designated capital.\", additional_kwargs={}, response_metadata={'prompt_feedback': {'block_reason': 0, 'safety_ratings': []}, 'finish_reason': 'STOP', 'model_name': 'gemini-2.5-flash', 'safety_ratings': []}, id='run--0cd03544-03ee-4d0d-85a4-c276ad49ee29-0', usage_metadata={'input_tokens': 9, 'output_tokens': 771, 'total_tokens': 780, 'input_token_details': {'cache_read': 0}, 'output_token_details': {'reasoning': 636}})"
      ]
     },
     "execution_count": 4,
     "metadata": {},
     "output_type": "execute_result"
    }
   ],
   "source": [
    "\n",
    "from langchain_core.messages import HumanMessage\n",
    "\n",
    "\n",
    "llm.invoke([HumanMessage(content=\"What is the capital of Andhra Pradesh?\")])"
   ]
  },
  {
   "cell_type": "markdown",
   "id": "d31e30ab",
   "metadata": {},
   "source": [
    "## Chat-History demo"
   ]
  },
  {
   "cell_type": "code",
   "execution_count": 5,
   "id": "774ab327",
   "metadata": {},
   "outputs": [],
   "source": [
    "\n",
    "from langchain_community.chat_message_histories import ChatMessageHistory\n",
    "from langchain_core.chat_history import BaseChatMessageHistory\n",
    "from langchain_core.runnables.history import RunnableWithMessageHistory\n",
    "\n",
    "store = {}\n",
    "\n",
    "def get_session_history(session_id: str) -> BaseChatMessageHistory:\n",
    "    if session_id not in store:\n",
    "        store[session_id] = ChatMessageHistory()\n",
    "    return store[session_id]\n",
    "\n",
    "with_history = RunnableWithMessageHistory(llm, get_session_history)\n"
   ]
  },
  {
   "cell_type": "markdown",
   "id": "59c21501",
   "metadata": {},
   "source": [
    "### *first - configuration*"
   ]
  },
  {
   "cell_type": "code",
   "execution_count": 6,
   "id": "ed12dfcd",
   "metadata": {},
   "outputs": [],
   "source": [
    "\n",
    "config = { \"configurable\": { \"session_id\": \"demo1\" } }\n"
   ]
  },
  {
   "cell_type": "code",
   "execution_count": 7,
   "id": "c5b50a1e",
   "metadata": {},
   "outputs": [
    {
     "data": {
      "text/plain": [
       "\"Hi Sri! Nice to meet you. It's great to connect with a final year student from CVR College of Engineering.\\n\\nHow can I help you today? What's on your mind?\""
      ]
     },
     "execution_count": 7,
     "metadata": {},
     "output_type": "execute_result"
    }
   ],
   "source": [
    "\n",
    "# Providing Information\n",
    "response = with_history.invoke(\n",
    "    [HumanMessage(content=\"Hi! I am Sri, final year student at CVR COllege of Engineering.\")],\n",
    "    config=config\n",
    ")\n",
    "\n",
    "response.content"
   ]
  },
  {
   "cell_type": "code",
   "execution_count": 8,
   "id": "3bb80d5e",
   "metadata": {},
   "outputs": [
    {
     "data": {
      "text/plain": [
       "'Your name is **Sri**! You mentioned it in your first message.\\n\\nHow can I help you, Sri?'"
      ]
     },
     "execution_count": 8,
     "metadata": {},
     "output_type": "execute_result"
    }
   ],
   "source": [
    "\n",
    "# Asking a Question\n",
    "with_history.invoke(\n",
    "    [HumanMessage(content=\"What is my name?\")],\n",
    "    config=config\n",
    ").content\n"
   ]
  },
  {
   "cell_type": "markdown",
   "id": "89a1524d",
   "metadata": {},
   "source": [
    "### *second - configuration*"
   ]
  },
  {
   "cell_type": "code",
   "execution_count": 9,
   "id": "58437c3a",
   "metadata": {},
   "outputs": [],
   "source": [
    "\n",
    "config1 = { \"configurable\": { \"session_id\": \"demo2\" } }"
   ]
  },
  {
   "cell_type": "code",
   "execution_count": 10,
   "id": "36d8cebf",
   "metadata": {},
   "outputs": [
    {
     "data": {
      "text/plain": [
       "\"As an AI, I don't have access to any personal information about you, so I don't know your name.\\n\\nYou haven't told me!\""
      ]
     },
     "execution_count": 10,
     "metadata": {},
     "output_type": "execute_result"
    }
   ],
   "source": [
    "\n",
    "# Asking a Question with a different session\n",
    "with_history.invoke(\n",
    "    [HumanMessage(content=\"what is my name?\")],\n",
    "    config=config1\n",
    ").content\n"
   ]
  },
  {
   "cell_type": "code",
   "execution_count": null,
   "id": "aa6dd9fa",
   "metadata": {},
   "outputs": [
    {
     "data": {
      "text/plain": [
       "\"Okay, Riyaz. It's nice to meet you! How can I help you today?\""
      ]
     },
     "execution_count": 42,
     "metadata": {},
     "output_type": "execute_result"
    }
   ],
   "source": [
    "\n",
    "# Providing Information to a demo2 session\n",
    "with_history.invoke(\n",
    "    [HumanMessage(content=\"My name is Riyaz.\")],\n",
    "    config=config1\n",
    ").content"
   ]
  },
  {
   "cell_type": "code",
   "execution_count": null,
   "id": "38aae601",
   "metadata": {},
   "outputs": [
    {
     "data": {
      "text/plain": [
       "'Your name is Riyaz.'"
      ]
     },
     "execution_count": 43,
     "metadata": {},
     "output_type": "execute_result"
    }
   ],
   "source": [
    "\n",
    "# Asking a Question\n",
    "with_history.invoke(\n",
    "    [HumanMessage(content=\"what is my name?\")],\n",
    "    config=config1\n",
    ").content\n"
   ]
  },
  {
   "cell_type": "markdown",
   "id": "0c76b5d4",
   "metadata": {},
   "source": [
    "## ChatPrompt Template"
   ]
  },
  {
   "cell_type": "code",
   "execution_count": 56,
   "id": "0245b2cd",
   "metadata": {},
   "outputs": [],
   "source": [
    "\n",
    "# Adding ChatPromptTemplate and bit complexity...\n",
    "from langchain_core.prompts import ChatPromptTemplate, MessagesPlaceholder\n",
    "\n",
    "prompt = ChatPromptTemplate.from_messages(\n",
    "    [    (\"system\", \"You are a friendly assistant. Answer all questions in {language}.\"),\n",
    "        MessagesPlaceholder(variable_name=\"messages\")\n",
    "    ]\n",
    ")\n",
    "\n",
    "chain = prompt | llm\n",
    "\n",
    "with_history = RunnableWithMessageHistory( chain, get_session_history, input_messages_key=\"messages\" )\n"
   ]
  },
  {
   "cell_type": "code",
   "execution_count": 57,
   "id": "c15dc83d",
   "metadata": {},
   "outputs": [
    {
     "data": {
      "text/plain": [
       "'హాయ్ అవినాష్! మిమ్మల్ని కలవడం నాకు చాలా సంతోషంగా ఉంది. నేను మీకు ఎలా సహాయపడగలను?'"
      ]
     },
     "execution_count": 57,
     "metadata": {},
     "output_type": "execute_result"
    }
   ],
   "source": [
    "\n",
    "config2 = { \"configurable\": { \"session_id\": \"demo2\" } }\n",
    "\n",
    "with_history.invoke(\n",
    "    {\"messages\": [HumanMessage(content=\"Hi! I am Avinash.\")], \"language\": \"Telugu\"},\n",
    "    config=config2\n",
    ").content\n"
   ]
  },
  {
   "cell_type": "code",
   "execution_count": 58,
   "id": "451e6584",
   "metadata": {},
   "outputs": [
    {
     "data": {
      "text/plain": [
       "'आपका नाम अविनाश है।'"
      ]
     },
     "execution_count": 58,
     "metadata": {},
     "output_type": "execute_result"
    }
   ],
   "source": [
    "\n",
    "with_history.invoke(\n",
    "    {\"messages\": [HumanMessage(content=\"what is my name?\")], \"language\": \"Hindi\"},\n",
    "    config=config2\n",
    ").content\n"
   ]
  },
  {
   "cell_type": "markdown",
   "id": "7c5554fd",
   "metadata": {},
   "source": [
    "## Trimming Messages"
   ]
  },
  {
   "cell_type": "code",
   "execution_count": 65,
   "id": "b8e4b19c",
   "metadata": {},
   "outputs": [
    {
     "data": {
      "text/plain": [
       "[SystemMessage(content='You are a friend.', additional_kwargs={}, response_metadata={}),\n",
       " HumanMessage(content='What is capital of Telangana?', additional_kwargs={}, response_metadata={}),\n",
       " AIMessage(content='Hyderabad', additional_kwargs={}, response_metadata={}),\n",
       " HumanMessage(content='Thanks!', additional_kwargs={}, response_metadata={}),\n",
       " AIMessage(content='You are welcome!', additional_kwargs={}, response_metadata={}),\n",
       " HumanMessage(content='Having fun?', additional_kwargs={}, response_metadata={}),\n",
       " AIMessage(content='Yes!', additional_kwargs={}, response_metadata={})]"
      ]
     },
     "execution_count": 65,
     "metadata": {},
     "output_type": "execute_result"
    }
   ],
   "source": [
    "\n",
    "from langchain_core.messages import SystemMessage, trim_messages, AIMessage\n",
    "\n",
    "trimmer = trim_messages(\n",
    "    max_tokens=40,\n",
    "    strategy=\"last\",\n",
    "    token_counter = llm,\n",
    "    include_system=True,\n",
    "    allow_partial=False,\n",
    "    start_on=\"human\"\n",
    ")\n",
    "\n",
    "messages = [\n",
    "    SystemMessage(content=\"You are a friend.\"),\n",
    "    HumanMessage(content=\"Hi! I am Rohith.\"),\n",
    "    AIMessage(content=\"Hello!\"),\n",
    "    HumanMessage(content=\"I like to play Badminton.\"),\n",
    "    AIMessage(content=\"Nice!\"),\n",
    "    HumanMessage(content=\"What is capital of Telangana?\"),\n",
    "    AIMessage(content=\"Hyderabad\"),\n",
    "    HumanMessage(content=\"Thanks!\"),\n",
    "    AIMessage(content=\"You are welcome!\"),\n",
    "    HumanMessage(content=\"Having fun?\"),\n",
    "    AIMessage(content=\"Yes!\")\n",
    "]\n",
    "\n",
    "trimmer.invoke(messages)\n"
   ]
  },
  {
   "cell_type": "code",
   "execution_count": null,
   "id": "8f661fc4",
   "metadata": {},
   "outputs": [
    {
     "data": {
      "text/plain": [
       "AIMessage(content=\"As a large language model, I have no memory of past conversations. Therefore, I do not know your name. You can tell me if you'd like! 😊\", additional_kwargs={}, response_metadata={'prompt_feedback': {'block_reason': 0, 'safety_ratings': []}, 'finish_reason': 'STOP', 'model_name': 'gemini-2.0-flash', 'safety_ratings': []}, id='run--b9d706e6-1ebf-49f4-a012-370b1eff5d09-0', usage_metadata={'input_tokens': 33, 'output_tokens': 35, 'total_tokens': 68, 'input_token_details': {'cache_read': 0}})"
      ]
     },
     "execution_count": 66,
     "metadata": {},
     "output_type": "execute_result"
    }
   ],
   "source": [
    "\n",
    "# As max tokens are 40, the messages are trimmed to fit within the limit. Therefore It doesn't remember my name.\n",
    "from operator import itemgetter\n",
    "from langchain_core.runnables import RunnablePassthrough\n",
    "\n",
    "chain = (\n",
    "    RunnablePassthrough.assign(messages=itemgetter(\"messages\") | trimmer) | prompt | llm    \n",
    ")\n",
    "\n",
    "chain.invoke(\n",
    "    {\"messages\": messages + [HumanMessage(content=\"What is my name?\")], \"language\": \"English\" }\n",
    ")\n"
   ]
  },
  {
   "cell_type": "code",
   "execution_count": 71,
   "id": "a24b572b",
   "metadata": {},
   "outputs": [
    {
     "data": {
      "text/plain": [
       "'You asked \"Having fun?\".'"
      ]
     },
     "execution_count": 71,
     "metadata": {},
     "output_type": "execute_result"
    }
   ],
   "source": [
    "\n",
    "chain.invoke(\n",
    "    {\"messages\": messages + [HumanMessage(content=\"What question did I ask?\")], \"language\": \"English\" }\n",
    ").content\n"
   ]
  },
  {
   "cell_type": "code",
   "execution_count": null,
   "id": "1c9d326e",
   "metadata": {},
   "outputs": [
    {
     "data": {
      "text/plain": [
       "'The capital of Telangana is Hyderabad!'"
      ]
     },
     "execution_count": 72,
     "metadata": {},
     "output_type": "execute_result"
    }
   ],
   "source": [
    "\n",
    "chain.invoke(\n",
    "    {\"messages\": messages + [HumanMessage(content=\"capital of Telangana\")], \"language\": \"English\" }\n",
    ").content\n"
   ]
  },
  {
   "cell_type": "code",
   "execution_count": 75,
   "id": "da096e11",
   "metadata": {},
   "outputs": [
    {
     "data": {
      "text/plain": [
       "'You asked, \"Having fun?\"'"
      ]
     },
     "execution_count": 75,
     "metadata": {},
     "output_type": "execute_result"
    }
   ],
   "source": [
    "\n",
    "# Wrapping into message history\n",
    "with_history = RunnableWithMessageHistory(\n",
    "    chain, get_session_history, input_messages_key=\"messages\"\n",
    ")\n",
    "\n",
    "config3 = { \"configurable\": { \"session_id\": \"demo3\" } }\n",
    "\n",
    "with_history.invoke(\n",
    "    {\"messages\": messages + [HumanMessage(content=\"What question did I ask?\")], \"language\": \"English\" },\n",
    "    config=config3\n",
    ").content\n"
   ]
  }
 ],
 "metadata": {
  "kernelspec": {
   "display_name": ".venv",
   "language": "python",
   "name": "python3"
  },
  "language_info": {
   "codemirror_mode": {
    "name": "ipython",
    "version": 3
   },
   "file_extension": ".py",
   "mimetype": "text/x-python",
   "name": "python",
   "nbconvert_exporter": "python",
   "pygments_lexer": "ipython3",
   "version": "3.12.7"
  }
 },
 "nbformat": 4,
 "nbformat_minor": 5
}
