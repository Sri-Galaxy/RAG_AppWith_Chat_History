{
 "cells": [
  {
   "cell_type": "markdown",
   "id": "f358e5f3",
   "metadata": {},
   "source": [
    "## *Documents*"
   ]
  },
  {
   "cell_type": "code",
   "execution_count": 1,
   "id": "cc5b61a0",
   "metadata": {},
   "outputs": [
    {
     "data": {
      "text/plain": [
       "[Document(metadata={'source': 'example.txt'}, page_content='The quick brown fox jumps over the lazy dog.'),\n",
       " Document(metadata={'source': 'example1.txt'}, page_content='A journey of a thousand miles begins with a single step.'),\n",
       " Document(metadata={'source': 'example2.txt'}, page_content='To be or not to be, that is the question.'),\n",
       " Document(metadata={'source': 'example3.txt'}, page_content='All that glitters is not gold.'),\n",
       " Document(metadata={'source': 'example4.txt'}, page_content='The only thing we have to fear is fear itself.')]"
      ]
     },
     "execution_count": 1,
     "metadata": {},
     "output_type": "execute_result"
    }
   ],
   "source": [
    "from langchain_core.documents import Document\n",
    "\n",
    "docs = [\n",
    "    Document(\n",
    "        page_content=\"The quick brown fox jumps over the lazy dog.\",\n",
    "        metadata={\"source\": \"example.txt\"}\n",
    "    ),\n",
    "    Document(\n",
    "        page_content=\"A journey of a thousand miles begins with a single step.\",\n",
    "        metadata={\"source\": \"example1.txt\"}\n",
    "    ),\n",
    "    Document(\n",
    "        page_content=\"To be or not to be, that is the question.\",\n",
    "        metadata={\"source\": \"example2.txt\"}\n",
    "    ),\n",
    "    Document(\n",
    "        page_content=\"All that glitters is not gold.\",\n",
    "        metadata={\"source\": \"example3.txt\"}\n",
    "    ),\n",
    "    Document(\n",
    "        page_content=\"The only thing we have to fear is fear itself.\",\n",
    "        metadata={\"source\": \"example4.txt\"}\n",
    "    )\n",
    "]\n",
    "\n",
    "docs"
   ]
  },
  {
   "cell_type": "markdown",
   "id": "4f01c0b4",
   "metadata": {},
   "source": [
    "## *Vector Stores*"
   ]
  },
  {
   "cell_type": "code",
   "execution_count": null,
   "id": "65162726",
   "metadata": {},
   "outputs": [],
   "source": [
    "\n",
    "import os\n",
    "from dotenv import load_dotenv\n",
    "from langchain_google_genai import ChatGoogleGenerativeAI\n",
    "\n",
    "load_dotenv()\n",
    "\n",
    "gemini_api_key = os.getenv(\"GOOGLE_API_KEY\")\n",
    "os.environ[\"GOOGLE_API_KEY\"] = os.getenv(\"GOOGLE_API_KEY\")\n",
    "os.environ[\"HF_TOKEN\"] = os.getenv(\"HF_TOKEN\")\n",
    "\n",
    "# LLM Initialisation...\n",
    "llm = ChatGoogleGenerativeAI(model=\"gemini-2.5-flash\", google_api_key=gemini_api_key)"
   ]
  },
  {
   "cell_type": "code",
   "execution_count": null,
   "id": "e15776e0",
   "metadata": {},
   "outputs": [
    {
     "name": "stderr",
     "output_type": "stream",
     "text": [
      "d:\\RAG_AppWith_Chat_History\\.venv\\Lib\\site-packages\\tqdm\\auto.py:21: TqdmWarning: IProgress not found. Please update jupyter and ipywidgets. See https://ipywidgets.readthedocs.io/en/stable/user_install.html\n",
      "  from .autonotebook import tqdm as notebook_tqdm\n"
     ]
    }
   ],
   "source": [
    "\n",
    "from langchain_huggingface import HuggingFaceEmbeddings\n",
    "\n",
    "# Embeddings initialisations...\n",
    "embeddings = HuggingFaceEmbeddings(model_name=\"sentence-transformers/all-MiniLM-L6-v2\")"
   ]
  },
  {
   "cell_type": "code",
   "execution_count": null,
   "id": "1fd62b60",
   "metadata": {},
   "outputs": [
    {
     "data": {
      "text/plain": [
       "[(Document(id='b6ea2bfa-b116-4935-af62-7cd272d5e0dd', metadata={'source': 'example1.txt'}, page_content='A journey of a thousand miles begins with a single step.'),\n",
       "  0.20588961243629456),\n",
       " (Document(id='873cee4a-8059-478a-b301-72a1dd2754a3', metadata={'source': 'example2.txt'}, page_content='To be or not to be, that is the question.'),\n",
       "  1.7181787490844727),\n",
       " (Document(id='5a27e1e2-9fab-4c61-a27c-b65e523b7a16', metadata={'source': 'example3.txt'}, page_content='All that glitters is not gold.'),\n",
       "  1.7797877788543701),\n",
       " (Document(id='d9b41e55-662d-4645-805f-124341e77443', metadata={'source': 'example4.txt'}, page_content='The only thing we have to fear is fear itself.'),\n",
       "  1.8255505561828613)]"
      ]
     },
     "execution_count": 4,
     "metadata": {},
     "output_type": "execute_result"
    }
   ],
   "source": [
    "\n",
    "from langchain_chroma import Chroma\n",
    "\n",
    "# Vector store initialisations...\n",
    "vector_store = Chroma.from_documents(docs, embedding=embeddings)\n",
    "\n",
    "vector_store.similarity_search_with_score(\"What is the first step in a journey of a thousand miles?\")\n"
   ]
  },
  {
   "cell_type": "markdown",
   "id": "b648e1d4",
   "metadata": {},
   "source": [
    "## *Retrievers*"
   ]
  },
  {
   "cell_type": "code",
   "execution_count": 5,
   "id": "6cc4920f",
   "metadata": {},
   "outputs": [
    {
     "data": {
      "text/plain": [
       "[[Document(id='b6ea2bfa-b116-4935-af62-7cd272d5e0dd', metadata={'source': 'example1.txt'}, page_content='A journey of a thousand miles begins with a single step.')],\n",
       " [Document(id='5a27e1e2-9fab-4c61-a27c-b65e523b7a16', metadata={'source': 'example3.txt'}, page_content='All that glitters is not gold.')]]"
      ]
     },
     "execution_count": 5,
     "metadata": {},
     "output_type": "execute_result"
    }
   ],
   "source": [
    "\n",
    "from typing import List\n",
    "\n",
    "\n",
    "retriever = vector_store.as_retriever(\n",
    "    search_type=\"similarity\",\n",
    "    search_kwargs={\"k\":1}\n",
    ")\n",
    "\n",
    "retriever.batch([\"first step\", \"glitters gold\"])\n"
   ]
  },
  {
   "cell_type": "markdown",
   "id": "89f1846b",
   "metadata": {},
   "source": [
    "# RAG - Pipeline"
   ]
  },
  {
   "cell_type": "code",
   "execution_count": 14,
   "id": "fda7e541",
   "metadata": {},
   "outputs": [],
   "source": [
    "\n",
    "from langchain_core.prompts import ChatPromptTemplate\n",
    "from langchain_core.runnables import RunnablePassthrough\n",
    "\n",
    "message = \"\"\"\n",
    "Answer the question using the provided context only.\n",
    "\n",
    "{question}\n",
    "\n",
    "Context:\n",
    "{context}\n",
    "\"\"\"\n",
    "\n",
    "prompt = ChatPromptTemplate.from_messages( [ (\"system\", \"You are a friendly assistant.\"), ( \"human\", message ) ] )\n",
    "\n",
    "rag_chain = {\"context\": retriever, \"question\": RunnablePassthrough() } | prompt | llm"
   ]
  },
  {
   "cell_type": "code",
   "execution_count": 15,
   "id": "faf9da78",
   "metadata": {},
   "outputs": [
    {
     "data": {
      "text/plain": [
       "'Based on the provided context, we cannot say that all gold is glitter. The context states, \"All that glitters is not gold,\" which means that just because something glitters, it doesn\\'t mean it\\'s gold. It does not provide information about whether all gold glitters.'"
      ]
     },
     "execution_count": 15,
     "metadata": {},
     "output_type": "execute_result"
    }
   ],
   "source": [
    "\n",
    "response = rag_chain.invoke(\"can we say all gold is glitter?\")\n",
    "response.content"
   ]
  },
  {
   "cell_type": "code",
   "execution_count": 13,
   "id": "72550750",
   "metadata": {},
   "outputs": [
    {
     "data": {
      "text/plain": [
       "'Based on the provided context, the capital of Telangana is not mentioned.'"
      ]
     },
     "execution_count": 13,
     "metadata": {},
     "output_type": "execute_result"
    }
   ],
   "source": [
    "\n",
    "response = rag_chain.invoke(\"What is capital of Telangana?\")\n",
    "response.content"
   ]
  }
 ],
 "metadata": {
  "kernelspec": {
   "display_name": ".venv",
   "language": "python",
   "name": "python3"
  },
  "language_info": {
   "codemirror_mode": {
    "name": "ipython",
    "version": 3
   },
   "file_extension": ".py",
   "mimetype": "text/x-python",
   "name": "python",
   "nbconvert_exporter": "python",
   "pygments_lexer": "ipython3",
   "version": "3.12.7"
  }
 },
 "nbformat": 4,
 "nbformat_minor": 5
}
